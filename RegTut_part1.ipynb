{
  "nbformat": 4,
  "nbformat_minor": 0,
  "metadata": {
    "colab": {
      "provenance": [],
      "authorship_tag": "ABX9TyNo+zvEG1zRUL3YhxP0dJWQ",
      "include_colab_link": true
    },
    "kernelspec": {
      "name": "python3",
      "display_name": "Python 3"
    },
    "language_info": {
      "name": "python"
    }
  },
  "cells": [
    {
      "cell_type": "markdown",
      "metadata": {
        "id": "view-in-github",
        "colab_type": "text"
      },
      "source": [
        "<a href=\"https://colab.research.google.com/github/bjoyita/Regression_ML/blob/main/RegTut_part1.ipynb\" target=\"_parent\"><img src=\"https://colab.research.google.com/assets/colab-badge.svg\" alt=\"Open In Colab\"/></a>"
      ]
    },
    {
      "cell_type": "markdown",
      "source": [
        "**Importing Libraries and modules**"
      ],
      "metadata": {
        "id": "qx40c_MWMFwg"
      }
    },
    {
      "cell_type": "code",
      "execution_count": 1,
      "metadata": {
        "id": "8ep6983PKYl2"
      },
      "outputs": [],
      "source": [
        "import numpy as np\n",
        "import matplotlib.pyplot as plt\n",
        "import pandas as pd\n",
        "\n",
        "# for machine learning\n",
        "from sklearn.model_selection import train_test_split\n",
        "from sklearn.linear_model import LinearRegression\n",
        "from sklearn.preprocessing import PolynomialFeatures\n",
        "\n",
        "# for loss functions and R square\n",
        "from sklearn.metrics import mean_absolute_error\n",
        "from sklearn.metrics import mean_squared_error\n",
        "from  sklearn.metrics import r2_score"
      ]
    },
    {
      "cell_type": "markdown",
      "source": [
        "**Loading dataset with kappa as X (4th column of the original data) and ZT as y**"
      ],
      "metadata": {
        "id": "OGJNXfNLLx4N"
      }
    },
    {
      "cell_type": "code",
      "source": [
        "dataset = pd.read_csv('RT_TEprop.csv')\n",
        "X = dataset.iloc[:, 4].values\n",
        "y = dataset.iloc[:, -1].values"
      ],
      "metadata": {
        "id": "OOtq1PYdLoUE"
      },
      "execution_count": 2,
      "outputs": []
    },
    {
      "cell_type": "markdown",
      "source": [
        "**Splitting data into Training and Test sets**"
      ],
      "metadata": {
        "id": "_7dtz55SMZta"
      }
    },
    {
      "cell_type": "code",
      "source": [
        "X_train, X_test, y_train, y_test = train_test_split(X, y, test_size = 0.1, random_state = 0)"
      ],
      "metadata": {
        "id": "yNyj91fOMYuz"
      },
      "execution_count": 3,
      "outputs": []
    },
    {
      "cell_type": "code",
      "source": [
        "# Reshaping required as fit() method of the LinearRegression class expects a 2D array as input.\n",
        "X_train=X_train.reshape(183,1)\n",
        "y_train=y_train.reshape(183,1)"
      ],
      "metadata": {
        "id": "b6slaBiPMkyr"
      },
      "execution_count": 4,
      "outputs": []
    },
    {
      "cell_type": "markdown",
      "source": [
        "**Fitting with linear regression model**"
      ],
      "metadata": {
        "id": "aZoHQ_NOM-cq"
      }
    },
    {
      "cell_type": "code",
      "source": [
        "lr = LinearRegression()\n",
        "lr.fit(X_train, y_train)"
      ],
      "metadata": {
        "colab": {
          "base_uri": "https://localhost:8080/",
          "height": 74
        },
        "id": "_SBxKuaEM3BT",
        "outputId": "638f37ab-b57e-4b7a-bb30-d6ff0e3b4c13"
      },
      "execution_count": 5,
      "outputs": [
        {
          "output_type": "execute_result",
          "data": {
            "text/plain": [
              "LinearRegression()"
            ],
            "text/html": [
              "<style>#sk-container-id-1 {color: black;background-color: white;}#sk-container-id-1 pre{padding: 0;}#sk-container-id-1 div.sk-toggleable {background-color: white;}#sk-container-id-1 label.sk-toggleable__label {cursor: pointer;display: block;width: 100%;margin-bottom: 0;padding: 0.3em;box-sizing: border-box;text-align: center;}#sk-container-id-1 label.sk-toggleable__label-arrow:before {content: \"▸\";float: left;margin-right: 0.25em;color: #696969;}#sk-container-id-1 label.sk-toggleable__label-arrow:hover:before {color: black;}#sk-container-id-1 div.sk-estimator:hover label.sk-toggleable__label-arrow:before {color: black;}#sk-container-id-1 div.sk-toggleable__content {max-height: 0;max-width: 0;overflow: hidden;text-align: left;background-color: #f0f8ff;}#sk-container-id-1 div.sk-toggleable__content pre {margin: 0.2em;color: black;border-radius: 0.25em;background-color: #f0f8ff;}#sk-container-id-1 input.sk-toggleable__control:checked~div.sk-toggleable__content {max-height: 200px;max-width: 100%;overflow: auto;}#sk-container-id-1 input.sk-toggleable__control:checked~label.sk-toggleable__label-arrow:before {content: \"▾\";}#sk-container-id-1 div.sk-estimator input.sk-toggleable__control:checked~label.sk-toggleable__label {background-color: #d4ebff;}#sk-container-id-1 div.sk-label input.sk-toggleable__control:checked~label.sk-toggleable__label {background-color: #d4ebff;}#sk-container-id-1 input.sk-hidden--visually {border: 0;clip: rect(1px 1px 1px 1px);clip: rect(1px, 1px, 1px, 1px);height: 1px;margin: -1px;overflow: hidden;padding: 0;position: absolute;width: 1px;}#sk-container-id-1 div.sk-estimator {font-family: monospace;background-color: #f0f8ff;border: 1px dotted black;border-radius: 0.25em;box-sizing: border-box;margin-bottom: 0.5em;}#sk-container-id-1 div.sk-estimator:hover {background-color: #d4ebff;}#sk-container-id-1 div.sk-parallel-item::after {content: \"\";width: 100%;border-bottom: 1px solid gray;flex-grow: 1;}#sk-container-id-1 div.sk-label:hover label.sk-toggleable__label {background-color: #d4ebff;}#sk-container-id-1 div.sk-serial::before {content: \"\";position: absolute;border-left: 1px solid gray;box-sizing: border-box;top: 0;bottom: 0;left: 50%;z-index: 0;}#sk-container-id-1 div.sk-serial {display: flex;flex-direction: column;align-items: center;background-color: white;padding-right: 0.2em;padding-left: 0.2em;position: relative;}#sk-container-id-1 div.sk-item {position: relative;z-index: 1;}#sk-container-id-1 div.sk-parallel {display: flex;align-items: stretch;justify-content: center;background-color: white;position: relative;}#sk-container-id-1 div.sk-item::before, #sk-container-id-1 div.sk-parallel-item::before {content: \"\";position: absolute;border-left: 1px solid gray;box-sizing: border-box;top: 0;bottom: 0;left: 50%;z-index: -1;}#sk-container-id-1 div.sk-parallel-item {display: flex;flex-direction: column;z-index: 1;position: relative;background-color: white;}#sk-container-id-1 div.sk-parallel-item:first-child::after {align-self: flex-end;width: 50%;}#sk-container-id-1 div.sk-parallel-item:last-child::after {align-self: flex-start;width: 50%;}#sk-container-id-1 div.sk-parallel-item:only-child::after {width: 0;}#sk-container-id-1 div.sk-dashed-wrapped {border: 1px dashed gray;margin: 0 0.4em 0.5em 0.4em;box-sizing: border-box;padding-bottom: 0.4em;background-color: white;}#sk-container-id-1 div.sk-label label {font-family: monospace;font-weight: bold;display: inline-block;line-height: 1.2em;}#sk-container-id-1 div.sk-label-container {text-align: center;}#sk-container-id-1 div.sk-container {/* jupyter's `normalize.less` sets `[hidden] { display: none; }` but bootstrap.min.css set `[hidden] { display: none !important; }` so we also need the `!important` here to be able to override the default hidden behavior on the sphinx rendered scikit-learn.org. See: https://github.com/scikit-learn/scikit-learn/issues/21755 */display: inline-block !important;position: relative;}#sk-container-id-1 div.sk-text-repr-fallback {display: none;}</style><div id=\"sk-container-id-1\" class=\"sk-top-container\"><div class=\"sk-text-repr-fallback\"><pre>LinearRegression()</pre><b>In a Jupyter environment, please rerun this cell to show the HTML representation or trust the notebook. <br />On GitHub, the HTML representation is unable to render, please try loading this page with nbviewer.org.</b></div><div class=\"sk-container\" hidden><div class=\"sk-item\"><div class=\"sk-estimator sk-toggleable\"><input class=\"sk-toggleable__control sk-hidden--visually\" id=\"sk-estimator-id-1\" type=\"checkbox\" checked><label for=\"sk-estimator-id-1\" class=\"sk-toggleable__label sk-toggleable__label-arrow\">LinearRegression</label><div class=\"sk-toggleable__content\"><pre>LinearRegression()</pre></div></div></div></div></div>"
            ]
          },
          "metadata": {},
          "execution_count": 5
        }
      ]
    },
    {
      "cell_type": "markdown",
      "source": [
        "**Prediction**"
      ],
      "metadata": {
        "id": "xzQkNmvWNPPV"
      }
    },
    {
      "cell_type": "code",
      "source": [
        "X_test=X_test.reshape(21,1)\n",
        "y_test=y_test.reshape(21,1)"
      ],
      "metadata": {
        "id": "gsXDwNT9NSIF"
      },
      "execution_count": 6,
      "outputs": []
    },
    {
      "cell_type": "code",
      "source": [
        "y_pred = lr.predict(X_test)\n",
        "np.set_printoptions(precision=2)\n",
        "print(np.concatenate((y_pred.reshape(len(y_pred),1), y_test.reshape(len(y_test),1)),1))"
      ],
      "metadata": {
        "colab": {
          "base_uri": "https://localhost:8080/"
        },
        "id": "J85jMTUyNTIs",
        "outputId": "8947960a-2f13-4605-ebc1-1edfc61973eb"
      },
      "execution_count": 7,
      "outputs": [
        {
          "output_type": "stream",
          "name": "stdout",
          "text": [
            "[[ 8.21e-02  2.00e-02]\n",
            " [ 8.86e-02  3.00e-02]\n",
            " [-6.64e-02  2.84e-03]\n",
            " [ 7.38e-02  1.59e-06]\n",
            " [ 7.33e-02  5.13e-03]\n",
            " [ 9.07e-02  2.20e-01]\n",
            " [ 8.97e-02  2.00e-02]\n",
            " [ 8.13e-02  3.00e-02]\n",
            " [ 8.97e-02  3.00e-02]\n",
            " [ 9.05e-02  3.00e-02]\n",
            " [ 7.12e-02  3.79e-04]\n",
            " [ 8.62e-02  1.50e-01]\n",
            " [ 8.55e-02  1.00e-01]\n",
            " [ 8.97e-02  2.00e-02]\n",
            " [ 8.13e-02  1.85e-04]\n",
            " [ 8.92e-02  1.00e-02]\n",
            " [ 8.46e-02  2.70e-01]\n",
            " [ 9.21e-02  6.00e-02]\n",
            " [ 5.95e-02  3.20e-03]\n",
            " [ 6.06e-02  1.81e-03]\n",
            " [ 8.86e-02  2.00e-02]]\n"
          ]
        }
      ]
    },
    {
      "cell_type": "markdown",
      "source": [
        "**Plotting**"
      ],
      "metadata": {
        "id": "C2-idqbRNrRe"
      }
    },
    {
      "cell_type": "code",
      "source": [
        "plt.scatter(X_test, y_test)\n",
        "plt.plot(X_train, lr.predict(X_train), \"r\")\n",
        "plt.title(\"kappa vs ZT (Test set)\")\n",
        "plt.xlabel(\"kappa\")\n",
        "plt.ylabel(\"ZT\")\n",
        "plt.show()"
      ],
      "metadata": {
        "colab": {
          "base_uri": "https://localhost:8080/",
          "height": 472
        },
        "id": "ttapTtsmNpSC",
        "outputId": "32ebc2b7-792e-43fc-b1a9-965715ff1c6b"
      },
      "execution_count": 8,
      "outputs": [
        {
          "output_type": "display_data",
          "data": {
            "text/plain": [
              "<Figure size 640x480 with 1 Axes>"
            ],
            "image/png": "[encoded data removed]"
          },
          "metadata": {}
        }
      ]
    },
    {
      "cell_type": "markdown",
      "source": [
        "**Computing Loss functions**"
      ],
      "metadata": {
        "id": "Z96q2RDnNzfR"
      }
    },
    {
      "cell_type": "code",
      "source": [
        "print(\"MAE\",mean_absolute_error(y_test,y_pred))"
      ],
      "metadata": {
        "colab": {
          "base_uri": "https://localhost:8080/"
        },
        "id": "hiFXXD7nNuiw",
        "outputId": "499cb331-bdb4-4b32-f0c6-a329f4b8e880"
      },
      "execution_count": 9,
      "outputs": [
        {
          "output_type": "stream",
          "name": "stdout",
          "text": [
            "MAE 0.07059993216927259\n"
          ]
        }
      ]
    },
    {
      "cell_type": "code",
      "source": [
        "print(\"Mean square error is \",mean_squared_error(y_test,y_pred))"
      ],
      "metadata": {
        "colab": {
          "base_uri": "https://localhost:8080/"
        },
        "id": "fHWZ11oXN37o",
        "outputId": "c3e24b69-08f2-4b2b-f424-a0154862aaca"
      },
      "execution_count": 10,
      "outputs": [
        {
          "output_type": "stream",
          "name": "stdout",
          "text": [
            "Mean square error is  0.00606286753428833\n"
          ]
        }
      ]
    },
    {
      "cell_type": "code",
      "source": [
        "# root mean square error, rmse\n",
        "rmse_lr = np.sqrt(mean_squared_error(y_test, y_pred))\n",
        "rmse_lr"
      ],
      "metadata": {
        "colab": {
          "base_uri": "https://localhost:8080/"
        },
        "id": "nN69ZOEaN8-C",
        "outputId": "dece3a05-726a-46d8-b0d5-b481ed14cf03"
      },
      "execution_count": 11,
      "outputs": [
        {
          "output_type": "execute_result",
          "data": {
            "text/plain": [
              "0.07786441763917798"
            ]
          },
          "metadata": {},
          "execution_count": 11
        }
      ]
    },
    {
      "cell_type": "markdown",
      "source": [
        "**R-squared**"
      ],
      "metadata": {
        "id": "YbE6_KDvOK1K"
      }
    },
    {
      "cell_type": "code",
      "source": [
        "r2_score_lr= r2_score(y_test, y_pred)\n",
        "r2_score_lr"
      ],
      "metadata": {
        "colab": {
          "base_uri": "https://localhost:8080/"
        },
        "id": "j_pkWyMTON_1",
        "outputId": "27672a93-99b4-42df-890b-db7eac25533b"
      },
      "execution_count": 12,
      "outputs": [
        {
          "output_type": "execute_result",
          "data": {
            "text/plain": [
              "-0.1281233534684132"
            ]
          },
          "metadata": {},
          "execution_count": 12
        }
      ]
    },
    {
      "cell_type": "markdown",
      "source": [
        "**POLYNOMIAL REGRESSION WITH ONE FEATURE (kappa)**"
      ],
      "metadata": {
        "id": "miBsFsA8OYiA"
      }
    },
    {
      "cell_type": "code",
      "source": [
        "poly = PolynomialFeatures(degree=2)\n",
        "poly_features_1 = poly.fit_transform(X.reshape(-1,1))\n"
      ],
      "metadata": {
        "id": "U5-BXHriOdzY"
      },
      "execution_count": 13,
      "outputs": []
    },
    {
      "cell_type": "code",
      "source": [
        "poly_features_1.shape"
      ],
      "metadata": {
        "colab": {
          "base_uri": "https://localhost:8080/"
        },
        "id": "vSzYf-CnOnG4",
        "outputId": "f3a11a7f-17ff-4466-a036-d5387748c932"
      },
      "execution_count": 14,
      "outputs": [
        {
          "output_type": "execute_result",
          "data": {
            "text/plain": [
              "(204, 3)"
            ]
          },
          "metadata": {},
          "execution_count": 14
        }
      ]
    },
    {
      "cell_type": "code",
      "source": [
        "poly_features_1"
      ],
      "metadata": {
        "colab": {
          "base_uri": "https://localhost:8080/"
        },
        "id": "Ng8vGFLfOrij",
        "outputId": "dfbe9f8b-b13a-40a3-943b-1b61380b0af5"
      },
      "execution_count": 15,
      "outputs": [
        {
          "output_type": "execute_result",
          "data": {
            "text/plain": [
              "array([[1.00e+00, 2.51e+00, 6.32e+00],\n",
              "       [1.00e+00, 2.27e+00, 5.14e+00],\n",
              "       [1.00e+00, 2.50e+00, 6.25e+00],\n",
              "       [1.00e+00, 1.79e+00, 3.19e+00],\n",
              "       [1.00e+00, 2.85e+00, 8.12e+00],\n",
              "       [1.00e+00, 1.48e+00, 2.20e+00],\n",
              "       [1.00e+00, 2.17e+00, 4.71e+00],\n",
              "       [1.00e+00, 1.64e+00, 2.68e+00],\n",
              "       [1.00e+00, 2.14e+00, 4.60e+00],\n",
              "       [1.00e+00, 1.49e+00, 2.22e+00],\n",
              "       [1.00e+00, 1.79e+00, 3.21e+00],\n",
              "       [1.00e+00, 3.56e+00, 1.27e+01],\n",
              "       [1.00e+00, 1.49e+00, 2.22e+00],\n",
              "       [1.00e+00, 1.73e+00, 2.98e+00],\n",
              "       [1.00e+00, 1.65e+00, 2.71e+00],\n",
              "       [1.00e+00, 1.10e+00, 1.21e+00],\n",
              "       [1.00e+00, 1.90e+00, 3.61e+00],\n",
              "       [1.00e+00, 1.62e+01, 2.63e+02],\n",
              "       [1.00e+00, 3.59e+00, 1.29e+01],\n",
              "       [1.00e+00, 2.99e+00, 8.94e+00],\n",
              "       [1.00e+00, 9.67e+00, 9.35e+01],\n",
              "       [1.00e+00, 9.16e+00, 8.38e+01],\n",
              "       [1.00e+00, 9.71e+00, 9.44e+01],\n",
              "       [1.00e+00, 9.42e+00, 8.87e+01],\n",
              "       [1.00e+00, 8.87e+00, 7.86e+01],\n",
              "       [1.00e+00, 6.85e+00, 4.69e+01],\n",
              "       [1.00e+00, 3.24e+00, 1.05e+01],\n",
              "       [1.00e+00, 4.37e+00, 1.91e+01],\n",
              "       [1.00e+00, 4.96e+00, 2.46e+01],\n",
              "       [1.00e+00, 1.04e+01, 1.09e+02],\n",
              "       [1.00e+00, 5.88e+00, 3.46e+01],\n",
              "       [1.00e+00, 7.96e+00, 6.34e+01],\n",
              "       [1.00e+00, 4.87e+01, 2.37e+03],\n",
              "       [1.00e+00, 4.45e+01, 1.98e+03],\n",
              "       [1.00e+00, 4.45e+01, 1.98e+03],\n",
              "       [1.00e+00, 4.03e+01, 1.62e+03],\n",
              "       [1.00e+00, 3.45e+01, 1.19e+03],\n",
              "       [1.00e+00, 5.88e+00, 3.46e+01],\n",
              "       [1.00e+00, 7.00e+00, 4.90e+01],\n",
              "       [1.00e+00, 4.07e+00, 1.66e+01],\n",
              "       [1.00e+00, 2.78e+00, 7.73e+00],\n",
              "       [1.00e+00, 2.19e+00, 4.77e+00],\n",
              "       [1.00e+00, 2.30e+00, 5.29e+00],\n",
              "       [1.00e+00, 1.88e+00, 3.53e+00],\n",
              "       [1.00e+00, 1.81e+00, 3.27e+00],\n",
              "       [1.00e+00, 1.80e+00, 3.24e+00],\n",
              "       [1.00e+00, 1.80e+00, 3.24e+00],\n",
              "       [1.00e+00, 3.70e+00, 1.37e+01],\n",
              "       [1.00e+00, 1.91e+01, 3.64e+02],\n",
              "       [1.00e+00, 1.90e+00, 3.63e+00],\n",
              "       [1.00e+00, 3.51e+00, 1.23e+01],\n",
              "       [1.00e+00, 2.00e+00, 4.00e+00],\n",
              "       [1.00e+00, 2.00e+00, 4.00e+00],\n",
              "       [1.00e+00, 2.00e+00, 4.00e+00],\n",
              "       [1.00e+00, 2.00e+00, 4.00e+00],\n",
              "       [1.00e+00, 3.78e+00, 1.43e+01],\n",
              "       [1.00e+00, 2.75e+00, 7.54e+00],\n",
              "       [1.00e+00, 2.31e+00, 5.32e+00],\n",
              "       [1.00e+00, 2.29e+00, 5.27e+00],\n",
              "       [1.00e+00, 3.08e+00, 9.50e+00],\n",
              "       [1.00e+00, 8.18e+00, 6.69e+01],\n",
              "       [1.00e+00, 6.59e+00, 4.34e+01],\n",
              "       [1.00e+00, 6.97e+00, 4.85e+01],\n",
              "       [1.00e+00, 7.56e+00, 5.71e+01],\n",
              "       [1.00e+00, 7.14e+00, 5.10e+01],\n",
              "       [1.00e+00, 9.29e+00, 8.64e+01],\n",
              "       [1.00e+00, 9.52e+00, 9.07e+01],\n",
              "       [1.00e+00, 4.20e+00, 1.76e+01],\n",
              "       [1.00e+00, 6.19e+00, 3.83e+01],\n",
              "       [1.00e+00, 5.53e+00, 3.06e+01],\n",
              "       [1.00e+00, 5.98e+00, 3.58e+01],\n",
              "       [1.00e+00, 7.82e+00, 6.12e+01],\n",
              "       [1.00e+00, 6.39e+00, 4.08e+01],\n",
              "       [1.00e+00, 6.84e+00, 4.68e+01],\n",
              "       [1.00e+00, 2.96e+01, 8.76e+02],\n",
              "       [1.00e+00, 9.81e+00, 9.63e+01],\n",
              "       [1.00e+00, 1.71e+01, 2.92e+02],\n",
              "       [1.00e+00, 1.67e+00, 2.78e+00],\n",
              "       [1.00e+00, 1.67e+00, 2.78e+00],\n",
              "       [1.00e+00, 1.67e+00, 2.78e+00],\n",
              "       [1.00e+00, 2.45e+00, 6.00e+00],\n",
              "       [1.00e+00, 1.80e+00, 3.24e+00],\n",
              "       [1.00e+00, 1.70e+00, 2.89e+00],\n",
              "       [1.00e+00, 1.52e+00, 2.31e+00],\n",
              "       [1.00e+00, 1.94e+00, 3.76e+00],\n",
              "       [1.00e+00, 4.81e-01, 2.31e-01],\n",
              "       [1.00e+00, 1.86e+00, 3.46e+00],\n",
              "       [1.00e+00, 1.77e+00, 3.13e+00],\n",
              "       [1.00e+00, 2.18e+00, 4.75e+00],\n",
              "       [1.00e+00, 8.10e-01, 6.56e-01],\n",
              "       [1.00e+00, 1.22e+00, 1.48e+00],\n",
              "       [1.00e+00, 1.06e+00, 1.12e+00],\n",
              "       [1.00e+00, 2.00e+00, 4.00e+00],\n",
              "       [1.00e+00, 1.50e+00, 2.25e+00],\n",
              "       [1.00e+00, 2.31e+00, 5.34e+00],\n",
              "       [1.00e+00, 2.09e+00, 4.36e+00],\n",
              "       [1.00e+00, 2.19e+00, 4.79e+00],\n",
              "       [1.00e+00, 2.30e+00, 5.29e+00],\n",
              "       [1.00e+00, 2.48e+00, 6.13e+00],\n",
              "       [1.00e+00, 2.56e+00, 6.55e+00],\n",
              "       [1.00e+00, 2.69e+00, 7.23e+00],\n",
              "       [1.00e+00, 2.57e+00, 6.60e+00],\n",
              "       [1.00e+00, 1.91e+00, 3.65e+00],\n",
              "       [1.00e+00, 2.40e+00, 5.76e+00],\n",
              "       [1.00e+00, 1.55e+00, 2.40e+00],\n",
              "       [1.00e+00, 1.37e+00, 1.88e+00],\n",
              "       [1.00e+00, 1.60e+00, 2.56e+00],\n",
              "       [1.00e+00, 7.72e+00, 5.96e+01],\n",
              "       [1.00e+00, 7.98e+00, 6.37e+01],\n",
              "       [1.00e+00, 6.02e+00, 3.62e+01],\n",
              "       [1.00e+00, 8.50e+00, 7.22e+01],\n",
              "       [1.00e+00, 8.35e+00, 6.97e+01],\n",
              "       [1.00e+00, 6.90e+00, 4.77e+01],\n",
              "       [1.00e+00, 6.89e+00, 4.74e+01],\n",
              "       [1.00e+00, 5.80e+00, 3.37e+01],\n",
              "       [1.00e+00, 6.08e+00, 3.69e+01],\n",
              "       [1.00e+00, 6.89e+00, 4.75e+01],\n",
              "       [1.00e+00, 7.43e+00, 5.51e+01],\n",
              "       [1.00e+00, 6.96e+00, 4.84e+01],\n",
              "       [1.00e+00, 1.01e+01, 1.03e+02],\n",
              "       [1.00e+00, 9.68e+00, 9.36e+01],\n",
              "       [1.00e+00, 1.01e+01, 1.01e+02],\n",
              "       [1.00e+00, 8.86e+00, 7.85e+01],\n",
              "       [1.00e+00, 4.09e+00, 1.67e+01],\n",
              "       [1.00e+00, 3.81e+00, 1.45e+01],\n",
              "       [1.00e+00, 3.17e+00, 1.00e+01],\n",
              "       [1.00e+00, 3.06e+00, 9.38e+00],\n",
              "       [1.00e+00, 3.39e+00, 1.15e+01],\n",
              "       [1.00e+00, 3.95e+00, 1.56e+01],\n",
              "       [1.00e+00, 2.89e+00, 8.33e+00],\n",
              "       [1.00e+00, 2.77e+00, 7.66e+00],\n",
              "       [1.00e+00, 8.40e-01, 7.06e-01],\n",
              "       [1.00e+00, 1.01e+00, 1.02e+00],\n",
              "       [1.00e+00, 7.70e-01, 5.93e-01],\n",
              "       [1.00e+00, 7.60e-01, 5.78e-01],\n",
              "       [1.00e+00, 7.83e-01, 6.13e-01],\n",
              "       [1.00e+00, 1.45e+00, 2.10e+00],\n",
              "       [1.00e+00, 1.67e+00, 2.79e+00],\n",
              "       [1.00e+00, 1.65e+00, 2.72e+00],\n",
              "       [1.00e+00, 1.59e+00, 2.53e+00],\n",
              "       [1.00e+00, 1.54e+00, 2.37e+00],\n",
              "       [1.00e+00, 1.49e+00, 2.22e+00],\n",
              "       [1.00e+00, 1.45e+00, 2.10e+00],\n",
              "       [1.00e+00, 1.47e+00, 2.16e+00],\n",
              "       [1.00e+00, 4.02e+00, 1.61e+01],\n",
              "       [1.00e+00, 3.38e+00, 1.14e+01],\n",
              "       [1.00e+00, 5.21e+00, 2.71e+01],\n",
              "       [1.00e+00, 1.50e+00, 2.25e+00],\n",
              "       [1.00e+00, 4.00e+00, 1.60e+01],\n",
              "       [1.00e+00, 3.01e+00, 9.08e+00],\n",
              "       [1.00e+00, 2.70e+00, 7.27e+00],\n",
              "       [1.00e+00, 1.94e+00, 3.77e+00],\n",
              "       [1.00e+00, 2.17e+00, 4.70e+00],\n",
              "       [1.00e+00, 1.28e+00, 1.65e+00],\n",
              "       [1.00e+00, 9.56e-01, 9.14e-01],\n",
              "       [1.00e+00, 3.81e+00, 1.45e+01],\n",
              "       [1.00e+00, 2.77e+00, 7.69e+00],\n",
              "       [1.00e+00, 2.12e+00, 4.52e+00],\n",
              "       [1.00e+00, 1.94e+00, 3.76e+00],\n",
              "       [1.00e+00, 1.43e+00, 2.05e+00],\n",
              "       [1.00e+00, 1.49e+00, 2.21e+00],\n",
              "       [1.00e+00, 1.71e+00, 2.94e+00],\n",
              "       [1.00e+00, 1.35e+00, 1.82e+00],\n",
              "       [1.00e+00, 1.50e+00, 2.25e+00],\n",
              "       [1.00e+00, 2.94e+00, 8.64e+00],\n",
              "       [1.00e+00, 2.90e+00, 8.41e+00],\n",
              "       [1.00e+00, 2.66e+00, 7.08e+00],\n",
              "       [1.00e+00, 1.30e+00, 1.69e+00],\n",
              "       [1.00e+00, 7.83e-01, 6.13e-01],\n",
              "       [1.00e+00, 3.77e-01, 1.42e-01],\n",
              "       [1.00e+00, 2.00e-01, 4.00e-02],\n",
              "       [1.00e+00, 5.09e+00, 2.59e+01],\n",
              "       [1.00e+00, 9.07e+00, 8.23e+01],\n",
              "       [1.00e+00, 6.75e+00, 4.56e+01],\n",
              "       [1.00e+00, 9.70e-01, 9.41e-01],\n",
              "       [1.00e+00, 1.25e+00, 1.56e+00],\n",
              "       [1.00e+00, 2.40e+00, 5.77e+00],\n",
              "       [1.00e+00, 2.05e+00, 4.20e+00],\n",
              "       [1.00e+00, 1.47e+00, 2.16e+00],\n",
              "       [1.00e+00, 1.97e+00, 3.87e+00],\n",
              "       [1.00e+00, 2.46e+00, 6.05e+00],\n",
              "       [1.00e+00, 1.24e+00, 1.54e+00],\n",
              "       [1.00e+00, 2.85e+00, 8.12e+00],\n",
              "       [1.00e+00, 3.06e+00, 9.39e+00],\n",
              "       [1.00e+00, 4.29e+00, 1.84e+01],\n",
              "       [1.00e+00, 4.34e+00, 1.88e+01],\n",
              "       [1.00e+00, 4.14e+00, 1.71e+01],\n",
              "       [1.00e+00, 2.45e+00, 6.00e+00],\n",
              "       [1.00e+00, 8.52e+00, 7.26e+01],\n",
              "       [1.00e+00, 7.08e+00, 5.01e+01],\n",
              "       [1.00e+00, 6.16e+00, 3.79e+01],\n",
              "       [1.00e+00, 6.55e+00, 4.29e+01],\n",
              "       [1.00e+00, 6.55e+00, 4.29e+01],\n",
              "       [1.00e+00, 7.13e+00, 5.08e+01],\n",
              "       [1.00e+00, 2.98e+00, 8.88e+00],\n",
              "       [1.00e+00, 7.83e+00, 6.13e+01],\n",
              "       [1.00e+00, 4.11e+00, 1.69e+01],\n",
              "       [1.00e+00, 4.50e+00, 2.02e+01],\n",
              "       [1.00e+00, 5.60e+00, 3.14e+01],\n",
              "       [1.00e+00, 5.20e+00, 2.70e+01],\n",
              "       [1.00e+00, 7.25e+00, 5.26e+01],\n",
              "       [1.00e+00, 5.69e+00, 3.24e+01],\n",
              "       [1.00e+00, 4.59e+00, 2.11e+01],\n",
              "       [1.00e+00, 2.86e+00, 8.18e+00]])"
            ]
          },
          "metadata": {},
          "execution_count": 15
        }
      ]
    },
    {
      "cell_type": "code",
      "source": [
        "X1_train, X1_test, y1_train, y1test = train_test_split(poly_features_1, y, test_size=0.1, random_state=42)"
      ],
      "metadata": {
        "id": "Yz1nX2MCcRid"
      },
      "execution_count": 16,
      "outputs": []
    },
    {
      "cell_type": "code",
      "source": [
        "X1_train.shape"
      ],
      "metadata": {
        "colab": {
          "base_uri": "https://localhost:8080/"
        },
        "id": "ZadR_0UPOujK",
        "outputId": "fcdc3362-bc3e-432c-cb7f-e9f2f801bf7f"
      },
      "execution_count": 17,
      "outputs": [
        {
          "output_type": "execute_result",
          "data": {
            "text/plain": [
              "(183, 3)"
            ]
          },
          "metadata": {},
          "execution_count": 17
        }
      ]
    },
    {
      "cell_type": "code",
      "source": [
        "y1_train.shape"
      ],
      "metadata": {
        "colab": {
          "base_uri": "https://localhost:8080/"
        },
        "id": "dxlMFoAWndWt",
        "outputId": "24699b25-5628-49bd-a3e6-1dbf6a682c57"
      },
      "execution_count": 18,
      "outputs": [
        {
          "output_type": "execute_result",
          "data": {
            "text/plain": [
              "(183,)"
            ]
          },
          "metadata": {},
          "execution_count": 18
        }
      ]
    },
    {
      "cell_type": "code",
      "source": [
        "lr.fit(X1_train, y1_train)"
      ],
      "metadata": {
        "colab": {
          "base_uri": "https://localhost:8080/",
          "height": 74
        },
        "id": "yuBsqIC-ngdm",
        "outputId": "375ccbe3-8cef-42b3-c8a5-1120892f253d"
      },
      "execution_count": 19,
      "outputs": [
        {
          "output_type": "execute_result",
          "data": {
            "text/plain": [
              "LinearRegression()"
            ],
            "text/html": [
              "<style>#sk-container-id-2 {color: black;background-color: white;}#sk-container-id-2 pre{padding: 0;}#sk-container-id-2 div.sk-toggleable {background-color: white;}#sk-container-id-2 label.sk-toggleable__label {cursor: pointer;display: block;width: 100%;margin-bottom: 0;padding: 0.3em;box-sizing: border-box;text-align: center;}#sk-container-id-2 label.sk-toggleable__label-arrow:before {content: \"▸\";float: left;margin-right: 0.25em;color: #696969;}#sk-container-id-2 label.sk-toggleable__label-arrow:hover:before {color: black;}#sk-container-id-2 div.sk-estimator:hover label.sk-toggleable__label-arrow:before {color: black;}#sk-container-id-2 div.sk-toggleable__content {max-height: 0;max-width: 0;overflow: hidden;text-align: left;background-color: #f0f8ff;}#sk-container-id-2 div.sk-toggleable__content pre {margin: 0.2em;color: black;border-radius: 0.25em;background-color: #f0f8ff;}#sk-container-id-2 input.sk-toggleable__control:checked~div.sk-toggleable__content {max-height: 200px;max-width: 100%;overflow: auto;}#sk-container-id-2 input.sk-toggleable__control:checked~label.sk-toggleable__label-arrow:before {content: \"▾\";}#sk-container-id-2 div.sk-estimator input.sk-toggleable__control:checked~label.sk-toggleable__label {background-color: #d4ebff;}#sk-container-id-2 div.sk-label input.sk-toggleable__control:checked~label.sk-toggleable__label {background-color: #d4ebff;}#sk-container-id-2 input.sk-hidden--visually {border: 0;clip: rect(1px 1px 1px 1px);clip: rect(1px, 1px, 1px, 1px);height: 1px;margin: -1px;overflow: hidden;padding: 0;position: absolute;width: 1px;}#sk-container-id-2 div.sk-estimator {font-family: monospace;background-color: #f0f8ff;border: 1px dotted black;border-radius: 0.25em;box-sizing: border-box;margin-bottom: 0.5em;}#sk-container-id-2 div.sk-estimator:hover {background-color: #d4ebff;}#sk-container-id-2 div.sk-parallel-item::after {content: \"\";width: 100%;border-bottom: 1px solid gray;flex-grow: 1;}#sk-container-id-2 div.sk-label:hover label.sk-toggleable__label {background-color: #d4ebff;}#sk-container-id-2 div.sk-serial::before {content: \"\";position: absolute;border-left: 1px solid gray;box-sizing: border-box;top: 0;bottom: 0;left: 50%;z-index: 0;}#sk-container-id-2 div.sk-serial {display: flex;flex-direction: column;align-items: center;background-color: white;padding-right: 0.2em;padding-left: 0.2em;position: relative;}#sk-container-id-2 div.sk-item {position: relative;z-index: 1;}#sk-container-id-2 div.sk-parallel {display: flex;align-items: stretch;justify-content: center;background-color: white;position: relative;}#sk-container-id-2 div.sk-item::before, #sk-container-id-2 div.sk-parallel-item::before {content: \"\";position: absolute;border-left: 1px solid gray;box-sizing: border-box;top: 0;bottom: 0;left: 50%;z-index: -1;}#sk-container-id-2 div.sk-parallel-item {display: flex;flex-direction: column;z-index: 1;position: relative;background-color: white;}#sk-container-id-2 div.sk-parallel-item:first-child::after {align-self: flex-end;width: 50%;}#sk-container-id-2 div.sk-parallel-item:last-child::after {align-self: flex-start;width: 50%;}#sk-container-id-2 div.sk-parallel-item:only-child::after {width: 0;}#sk-container-id-2 div.sk-dashed-wrapped {border: 1px dashed gray;margin: 0 0.4em 0.5em 0.4em;box-sizing: border-box;padding-bottom: 0.4em;background-color: white;}#sk-container-id-2 div.sk-label label {font-family: monospace;font-weight: bold;display: inline-block;line-height: 1.2em;}#sk-container-id-2 div.sk-label-container {text-align: center;}#sk-container-id-2 div.sk-container {/* jupyter's `normalize.less` sets `[hidden] { display: none; }` but bootstrap.min.css set `[hidden] { display: none !important; }` so we also need the `!important` here to be able to override the default hidden behavior on the sphinx rendered scikit-learn.org. See: https://github.com/scikit-learn/scikit-learn/issues/21755 */display: inline-block !important;position: relative;}#sk-container-id-2 div.sk-text-repr-fallback {display: none;}</style><div id=\"sk-container-id-2\" class=\"sk-top-container\"><div class=\"sk-text-repr-fallback\"><pre>LinearRegression()</pre><b>In a Jupyter environment, please rerun this cell to show the HTML representation or trust the notebook. <br />On GitHub, the HTML representation is unable to render, please try loading this page with nbviewer.org.</b></div><div class=\"sk-container\" hidden><div class=\"sk-item\"><div class=\"sk-estimator sk-toggleable\"><input class=\"sk-toggleable__control sk-hidden--visually\" id=\"sk-estimator-id-2\" type=\"checkbox\" checked><label for=\"sk-estimator-id-2\" class=\"sk-toggleable__label sk-toggleable__label-arrow\">LinearRegression</label><div class=\"sk-toggleable__content\"><pre>LinearRegression()</pre></div></div></div></div></div>"
            ]
          },
          "metadata": {},
          "execution_count": 19
        }
      ]
    },
    {
      "cell_type": "code",
      "source": [
        "y1_pred = lr.predict(X1_test)"
      ],
      "metadata": {
        "id": "pejMOWc4ny5b"
      },
      "execution_count": 20,
      "outputs": []
    },
    {
      "cell_type": "code",
      "source": [
        "print(\"MAE\",mean_absolute_error(y1test,y1_pred))"
      ],
      "metadata": {
        "colab": {
          "base_uri": "https://localhost:8080/"
        },
        "id": "xF39sqJhnzzw",
        "outputId": "092ed0c4-e5f6-4e33-c26f-ae7c2d606a75"
      },
      "execution_count": 21,
      "outputs": [
        {
          "output_type": "stream",
          "name": "stdout",
          "text": [
            "MAE 0.08870040597940537\n"
          ]
        }
      ]
    },
    {
      "cell_type": "code",
      "source": [
        "print(\"MSE\",mean_squared_error(y1test, y1_pred))"
      ],
      "metadata": {
        "colab": {
          "base_uri": "https://localhost:8080/"
        },
        "id": "zs9yI7gfn_cs",
        "outputId": "1f033d7b-d91d-430e-9b18-2287d9679c6b"
      },
      "execution_count": 22,
      "outputs": [
        {
          "output_type": "stream",
          "name": "stdout",
          "text": [
            "MSE 0.015505510025975732\n"
          ]
        }
      ]
    },
    {
      "cell_type": "code",
      "source": [
        "rmse_poly1 = np.sqrt(mean_squared_error(y1test, y1_pred))\n",
        "rmse_poly1"
      ],
      "metadata": {
        "colab": {
          "base_uri": "https://localhost:8080/"
        },
        "id": "ZATWy6spn5C_",
        "outputId": "7b433788-bc89-46c1-dc43-f037bf56781c"
      },
      "execution_count": 23,
      "outputs": [
        {
          "output_type": "execute_result",
          "data": {
            "text/plain": [
              "0.12452112281045224"
            ]
          },
          "metadata": {},
          "execution_count": 23
        }
      ]
    },
    {
      "cell_type": "code",
      "source": [
        "R_square_p1 = r2_score(y1test, y1_pred)\n",
        "R_square_p1"
      ],
      "metadata": {
        "colab": {
          "base_uri": "https://localhost:8080/"
        },
        "id": "85mlYtMBoLBm",
        "outputId": "97f586c4-f6fc-41e4-b17a-aa42c9e565c8"
      },
      "execution_count": 24,
      "outputs": [
        {
          "output_type": "execute_result",
          "data": {
            "text/plain": [
              "-0.015278431801236891"
            ]
          },
          "metadata": {},
          "execution_count": 24
        }
      ]
    },
    {
      "cell_type": "code",
      "source": [
        "from tabulate import tabulate\n",
        "\n",
        "Eval_table = [[\"MAE\", 0.089], [\"MSE\",0.016], ['RMSE', 0.125], ['R-squared', -0.015]]\n",
        "print(tabulate(Eval_table))"
      ],
      "metadata": {
        "colab": {
          "base_uri": "https://localhost:8080/"
        },
        "id": "hCgaJY4cebi2",
        "outputId": "021a3160-cc44-40c6-c224-cd727f950e9a"
      },
      "execution_count": 26,
      "outputs": [
        {
          "output_type": "stream",
          "name": "stdout",
          "text": [
            "---------  ------\n",
            "MAE         0.089\n",
            "MSE         0.016\n",
            "RMSE        0.125\n",
            "R-squared  -0.015\n",
            "---------  ------\n"
          ]
        }
      ]
    }
  ]
}